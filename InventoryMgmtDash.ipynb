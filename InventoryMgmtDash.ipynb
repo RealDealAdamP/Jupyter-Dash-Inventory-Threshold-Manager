{
 "cells": [
  {
   "cell_type": "markdown",
   "id": "724e8d1a",
   "metadata": {},
   "source": [
    "# Install Dependencies via\n",
    "\n",
    "pip install -r requirements.txt"
   ]
  },
  {
   "cell_type": "markdown",
   "id": "7a1a3e15",
   "metadata": {},
   "source": [
    "# Verify dash installation"
   ]
  },
  {
   "cell_type": "code",
   "execution_count": 1,
   "id": "cba2b1be",
   "metadata": {},
   "outputs": [
    {
     "name": "stdout",
     "output_type": "stream",
     "text": [
      "2.17.1\n"
     ]
    }
   ],
   "source": [
    "import dash\n",
    "print(dash.__version__)\n"
   ]
  },
  {
   "cell_type": "markdown",
   "id": "f5e18435",
   "metadata": {},
   "source": [
    "# Load Product Invetory Data"
   ]
  },
  {
   "cell_type": "code",
   "execution_count": 2,
   "id": "d3f87534",
   "metadata": {},
   "outputs": [
    {
     "name": "stdout",
     "output_type": "stream",
     "text": [
      "   unq_id  loc_id  brand_id  prod_type_id  \\\n",
      "0  150001     452        11            19   \n",
      "1  150002     452        16            23   \n",
      "2  150003     452        16            25   \n",
      "3  150004     452        16            29   \n",
      "4  150005     452        16            34   \n",
      "\n",
      "                                loc_nam loc_st  \\\n",
      "0  Village Green Society - Recreational     CO   \n",
      "1  Village Green Society - Recreational     CO   \n",
      "2  Village Green Society - Recreational     CO   \n",
      "3  Village Green Society - Recreational     CO   \n",
      "4  Village Green Society - Recreational     CO   \n",
      "\n",
      "                           prod_name  prod_attribute prod_thc_lvl prod_qty  \\\n",
      "0             Cigarillos edible mint       Chocolate       1000mg       10   \n",
      "1       East West concentrate budder      White Dawg          0.6      .5g   \n",
      "2  East West concentrate cured resin    Thick Wicket         0.57       1g   \n",
      "3         East West concentrate kief  Gorilla Snacks         0.57      .5g   \n",
      "4   East West concentrate live jelly    Alien Asshat         0.63       7g   \n",
      "\n",
      "  prod_lst_price  loc_qty  \n",
      "0        $15.00       127  \n",
      "1        $30.00       175  \n",
      "2       $210.00       352  \n",
      "3       $105.00       322  \n",
      "4       $210.00       245  \n"
     ]
    }
   ],
   "source": [
    "import pandas as pd\n",
    "\n",
    "# Relative path to the CSV file\n",
    "productInventory = pd.read_csv('productInventory.csv')\n",
    "\n",
    "# Display the first few rows of the DataFrame\n",
    "print(productInventory.head())"
   ]
  },
  {
   "cell_type": "markdown",
   "id": "50888c4c",
   "metadata": {},
   "source": [
    "# Display Product Inventory Data info"
   ]
  },
  {
   "cell_type": "code",
   "execution_count": 3,
   "id": "9bcdeae7",
   "metadata": {},
   "outputs": [
    {
     "name": "stdout",
     "output_type": "stream",
     "text": [
      "<class 'pandas.core.frame.DataFrame'>\n",
      "RangeIndex: 150000 entries, 0 to 149999\n",
      "Data columns (total 12 columns):\n",
      " #   Column          Non-Null Count   Dtype \n",
      "---  ------          --------------   ----- \n",
      " 0   unq_id          150000 non-null  int64 \n",
      " 1   loc_id          150000 non-null  int64 \n",
      " 2   brand_id        150000 non-null  int64 \n",
      " 3   prod_type_id    150000 non-null  int64 \n",
      " 4   loc_nam         150000 non-null  object\n",
      " 5   loc_st          150000 non-null  object\n",
      " 6   prod_name       150000 non-null  object\n",
      " 7   prod_attribute  150000 non-null  object\n",
      " 8   prod_thc_lvl    150000 non-null  object\n",
      " 9   prod_qty        150000 non-null  object\n",
      " 10  prod_lst_price  150000 non-null  object\n",
      " 11  loc_qty         150000 non-null  int64 \n",
      "dtypes: int64(5), object(7)\n",
      "memory usage: 13.7+ MB\n",
      "None\n"
     ]
    }
   ],
   "source": [
    "# Display dataFrame info\n",
    "print(productInventory.info())"
   ]
  },
  {
   "cell_type": "code",
   "execution_count": 4,
   "id": "2b1e1a0e",
   "metadata": {
    "scrolled": false
   },
   "outputs": [
    {
     "data": {
      "text/html": [
       "\n",
       "        <iframe\n",
       "            width=\"100%\"\n",
       "            height=\"650\"\n",
       "            src=\"http://127.0.0.1:8050/\"\n",
       "            frameborder=\"0\"\n",
       "            allowfullscreen\n",
       "            \n",
       "        ></iframe>\n",
       "        "
      ],
      "text/plain": [
       "<IPython.lib.display.IFrame at 0x2246b21f760>"
      ]
     },
     "metadata": {},
     "output_type": "display_data"
    }
   ],
   "source": [
    "from dash import dcc, html, Dash, dash_table\n",
    "from dash.dependencies import Input, Output\n",
    "import dash_bootstrap_components as dbc\n",
    "import pandas as pd\n",
    "\n",
    "# Initialize the Dash app\n",
    "app = Dash(__name__, external_stylesheets=[dbc.themes.COSMO])\n",
    "\n",
    "# Assuming productInventory is your DataFrame\n",
    "# Concatenate 'loc_id' and 'loc_nam' for the dropdown options\n",
    "productInventory['loc_id_nam'] = productInventory['loc_id'].astype(str) + \" - \" + productInventory['loc_nam']\n",
    "\n",
    "# Layout components\n",
    "app.layout = dbc.Container([\n",
    "    dbc.Row([\n",
    "        dbc.Col(html.H1(\"Inventory Management Dashboard\"), width=12),\n",
    "    ], className=\"mb-4\"),\n",
    "    \n",
    "    # Location and Threshold Input with Labels\n",
    "    dbc.Row([\n",
    "        dbc.Col([\n",
    "            dbc.Label(\"Location\"),\n",
    "            dcc.Dropdown(\n",
    "                id='location-dropdown',\n",
    "                options=[{'label': loc, 'value': loc} for loc in productInventory['loc_id_nam'].unique()],\n",
    "                placeholder=\"Select a location\",\n",
    "                value=productInventory['loc_id_nam'].unique()[0],  # Default to first location\n",
    "                className=\"text-info\"  # Ensures text is dark mode friendly\n",
    "            ),\n",
    "        ], width=6, className=\"mb-3\"),\n",
    "        dbc.Col([\n",
    "            dbc.Label(\"Quantity Threshold\"),\n",
    "            dcc.Input(\n",
    "                id='threshold-input',\n",
    "                type='number',\n",
    "                placeholder='Set inventory threshold',\n",
    "                value=10,  # Default threshold value\n",
    "                className=\"mt-2\",\n",
    "            ),\n",
    "        ], width=6, className=\"mb-3\"),\n",
    "    ], className=\"mb-4\"),\n",
    "    \n",
    "    # Location Inventory Overview\n",
    "    dbc.Row([\n",
    "        dbc.Col(dash_table.DataTable(id='location-inventory-table'), width=12),\n",
    "    ], className=\"mb-4\"),\n",
    "])\n",
    "\n",
    "# Function to update Location Inventory Overview based on selected location and threshold\n",
    "@app.callback(\n",
    "    Output('location-inventory-table', 'data'),\n",
    "    Output('location-inventory-table', 'columns'),\n",
    "    [Input('location-dropdown', 'value'),\n",
    "     Input('threshold-input', 'value')]\n",
    ")\n",
    "def update_location_inventory_table(selected_location, threshold):\n",
    "    # Extract loc_id and loc_nam from the selected location value\n",
    "    loc_id = selected_location.split(\" - \")[0]\n",
    "    \n",
    "    # Filter the data based on the selected location and threshold\n",
    "    filtered_data = productInventory[(productInventory['loc_id'].astype(str) == loc_id) & \n",
    "                                     (productInventory['loc_qty'] < threshold)]\n",
    "    \n",
    "    # Select only the columns of interest\n",
    "    filtered_data = filtered_data[['loc_st', 'prod_name', 'prod_attribute', 'prod_thc_lvl', \n",
    "                                   'prod_qty', 'prod_lst_price', 'loc_qty']]\n",
    "    \n",
    "    # Prepare the data for the DataTable\n",
    "    data = filtered_data.to_dict('records')\n",
    "    columns = [{\"name\": i, \"id\": i} for i in filtered_data.columns]\n",
    "\n",
    "    return data, columns\n",
    "\n",
    "# Run the app\n",
    "if __name__ == '__main__':\n",
    "    app.run_server(debug=True)\n",
    "\n",
    "\n",
    "\n"
   ]
  },
  {
   "cell_type": "code",
   "execution_count": null,
   "id": "6a6ea499",
   "metadata": {},
   "outputs": [],
   "source": []
  }
 ],
 "metadata": {
  "kernelspec": {
   "display_name": "Python 3 (ipykernel)",
   "language": "python",
   "name": "python3"
  },
  "language_info": {
   "codemirror_mode": {
    "name": "ipython",
    "version": 3
   },
   "file_extension": ".py",
   "mimetype": "text/x-python",
   "name": "python",
   "nbconvert_exporter": "python",
   "pygments_lexer": "ipython3",
   "version": "3.9.13"
  }
 },
 "nbformat": 4,
 "nbformat_minor": 5
}
